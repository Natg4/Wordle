{
  "nbformat": 4,
  "nbformat_minor": 0,
  "metadata": {
    "colab": {
      "provenance": [],
      "include_colab_link": true
    },
    "kernelspec": {
      "name": "python3",
      "display_name": "Python 3"
    },
    "language_info": {
      "name": "python"
    }
  },
  "cells": [
    {
      "cell_type": "markdown",
      "metadata": {
        "id": "view-in-github",
        "colab_type": "text"
      },
      "source": [
        "<a href=\"https://colab.research.google.com/github/Natg4/Wordle/blob/main/Specification_2604%20avec%20seconde%20spec.ipynb\" target=\"_parent\"><img src=\"https://colab.research.google.com/assets/colab-badge.svg\" alt=\"Open In Colab\"/></a>"
      ]
    },
    {
      "cell_type": "code",
      "execution_count": 1,
      "metadata": {
        "id": "utd-QlOm8Vob"
      },
      "outputs": [],
      "source": [
        "# pip install openpyxl\n",
        "\n",
        "import matplotlib.pyplot as plt\n",
        "import seaborn as sns\n",
        "from datetime import datetime, timedelta\n",
        "import pandas as pd\n",
        "import requests\n",
        "import numpy as np\n",
        "from scipy import stats\n",
        "\n",
        "\n",
        "\n"
      ]
    },
    {
      "cell_type": "code",
      "source": [
        "!pip install -q xlrd\n",
        "!git clone https://github.com/Jeremstar/ca-va-predire-l-inflation-severe\n",
        "\n",
        "!ls données/"
      ],
      "metadata": {
        "colab": {
          "base_uri": "https://localhost:8080/"
        },
        "id": "RkEMofzQSJzV",
        "outputId": "2b3002fd-6ea8-4074-9043-248bfcf2943b"
      },
      "execution_count": 4,
      "outputs": [
        {
          "output_type": "stream",
          "name": "stdout",
          "text": [
            "Cloning into 'ca-va-predire-l-inflation-severe'...\n",
            "remote: Enumerating objects: 151, done.\u001b[K\n",
            "remote: Counting objects: 100% (79/79), done.\u001b[K\n",
            "remote: Compressing objects: 100% (60/60), done.\u001b[K\n",
            "remote: Total 151 (delta 46), reused 40 (delta 18), pack-reused 72\u001b[K\n",
            "Receiving objects: 100% (151/151), 33.65 MiB | 19.62 MiB/s, done.\n",
            "Resolving deltas: 100% (72/72), done.\n",
            "ls: cannot access 'données/': No such file or directory\n"
          ]
        }
      ]
    },
    {
      "cell_type": "code",
      "source": [
        "OECD = pd.read_excel('/content/ca-va-predire-l-inflation-severe/données/OECD - short term economic indicators.xlsx')\n",
        "\n",
        "IMF = pd.read_excel('/content/ca-va-predire-l-inflation-severe/données/IMF - monetary policy.xlsx')\n",
        "\n",
        "agregated_data=pd.ExcelFile('/content/ca-va-predire-l-inflation-severe/données/FRBNY-SCE-Data.xlsx')\n",
        "agregated_anticipation= df1=pd.read_excel(agregated_data, 'Inflation expectations')\n",
        "\n",
        "agrant = agregated_anticipation[['Unnamed: 1','Unnamed: 2']].drop([0,1,2]).reset_index().rename(columns={'index':'date','Unnamed: 1':'short exp','Unnamed: 2':'mid exp'})\n",
        "\n",
        "Enq13 = pd.read_excel('https://www.newyorkfed.org/medialibrary/interactives/sce/sce/downloads/data/frbny-sce-public-microdata-complete-13-16.xlsx')\n",
        "\n",
        "Enq17 = pd.read_excel('https://www.newyorkfed.org/medialibrary/interactives/sce/sce/downloads/data/frbny-sce-public-microdata-complete-17-19.xlsx')\n",
        "\n",
        "Latest=pd.ExcelFile('https://www.newyorkfed.org/medialibrary/Interactives/sce/sce/downloads/data/frbny-sce-public-microdata-latest.xlsx')\n",
        "\n",
        "Enq20=pd.read_excel(Latest, 'Data')\n",
        "\n",
        "# ça c'était pour le 'W' mais comme j'avais que le PIB j'ai laissé tombé pour cette fois\n",
        "#pib = pd.read_excel(r'C:\\Users\\3e3gr\\OneDrive\\Documents\\ENSAE\\2A-S2\\StatApp\\PIBUS1.xlsx').drop(list(range(0,35))).rename(columns = {'Produit intérieur brut des États-Unis 1980-2021' : 'date','Unnamed: 1':'PIB'}) #en milliard de $ courant\n",
        "\n",
        "#pib.set_index('date',inplace=True)\n",
        "\n",
        "# u = pd.read_excel(r'C:\\Users\\3e3gr\\OneDrive\\Documents\\ENSAE\\2A-S2\\StatApp\\chomageUS.xlsx')\n"
      ],
      "metadata": {
        "id": "2UQVtsIV8iS2"
      },
      "execution_count": 7,
      "outputs": []
    },
    {
      "cell_type": "code",
      "source": [
        "\n",
        "\n",
        "#Il faut faire 2-3 manips pour rendre les bases utilisables\n",
        "new_columns = Enq13.iloc[0]\n",
        "Enq13.columns = new_columns\n",
        "Enq13 = Enq13.drop(0)\n",
        "\n",
        "new_columns = Enq17.iloc[0]\n",
        "Enq17.columns = new_columns\n",
        "Enq17 = Enq17.drop(0)\n",
        "new_columns = Enq20.iloc[0]\n",
        "Enq20.columns = new_columns\n",
        "Enq20 = Enq20.drop(0)\n",
        "Enq17['date'] = pd.to_datetime(Enq17['date'].astype(str) + '01', format='%Y%m%d')\n",
        "Enq13['date'] = pd.to_datetime(Enq13['date'].astype(str) + '01', format='%Y%m%d')\n",
        "Enq20['date'] = pd.to_datetime(Enq20['date'].astype(str) + '01', format='%Y%m%d')\n",
        "Base_finale=pd.concat([Enq13,Enq17,Enq20])\n",
        "#Base_finale.to_excel('Base_finale.xlsx')\n"
      ],
      "metadata": {
        "id": "G4eayw9M8xD2"
      },
      "execution_count": 8,
      "outputs": []
    },
    {
      "cell_type": "code",
      "source": [
        "#Ici certaines choses ont été raccourcis mais rien de fondamental n'a changé\n",
        "\n",
        "# I - premiere spécification\n",
        "\n",
        "\n",
        "from sklearn.linear_model import LinearRegression\n",
        "from statsmodels.regression.linear_model import OLS\n",
        "import statsmodels.api as sm\n",
        "AA=Base_finale\n",
        "list(AA.columns)\n",
        "\n",
        "\n",
        "educ=pd.get_dummies(AA['_EDU_CAT'])\n",
        "age=pd.get_dummies(AA['_AGE_CAT'])\n",
        "income=pd.get_dummies(AA['_HH_INC_CAT'])\n",
        "numeracy=pd.get_dummies(AA['_NUM_CAT'])\n",
        "np.sum(educ['High School'])\n",
        "\n",
        "\n",
        "BC = pd.concat([AA, educ], axis=1).reindex(AA.index) #BC est pour Base complète. Ici, on complète la base avec des dummies\n",
        "BC = pd.concat([BC, age], axis=1).reindex(BC.index)\n",
        "BC = pd.concat([BC, income], axis=1).reindex(BC.index)\n",
        "BC = pd.concat([BC, numeracy], axis=1).reindex(BC.index)\n",
        "\n",
        "\"\"\"on code mtn pour le genre :\"\"\"\n",
        "\n",
        "gender=pd.get_dummies(AA['Q33'])\n",
        "gender.rename(columns={1: \"femme\"}, inplace=True)\n",
        "BC = pd.concat([BC, gender['femme']], axis=1).reindex(BC.index)\n",
        "\n",
        "\"\"\"c fait pour le genre.\n",
        "Faisons le ménage dans les non-réponses et dans les outliers\"\"\"\n",
        "\n",
        "BC=BC.dropna(subset=['Q8v2part2','Q9bv2part2']) #On supprime les personnes qui n'ont pas répondu aux questions sur les anticipations d'inflation.\n",
        "\"\"\"Supprimons les outliers\"\"\"\n",
        "\n",
        "test=BC[BC['Q8v2part2']<=20]\n",
        "test=test[test['Q8v2part2']>=-20]\n",
        "max(test['Q8v2part2'])\n",
        "\n",
        "BC.rename(columns={'Q8v2part2':'inflation anticipée'},inplace=True)\n",
        "\n",
        "model = OLS(BC['inflation anticipée'].astype('float'),BC['femme'].astype('float'))\n",
        "results = model.fit()\n",
        "su = results.summary()\n",
        "print(su)\n",
        "\n",
        "# Calcul de l'inflation :\n",
        "\n",
        "inflation_US = OECD[(OECD['Country'] == \"United States\") & (OECD['Subject2'] == \"Consumer prices: all items\")]\n",
        "inflation_US2 = pd.DataFrame({\n",
        "    'day': pd.to_datetime(inflation_US['Time'], format='%Y-%m-%d'),\n",
        "    'Inflation': inflation_US['Value'].astype(float)\n",
        "})\n",
        "\n",
        "inflation_US3 = pd.DataFrame({\n",
        "    'date': inflation_US2['day'],\n",
        "    'tx_evol_ann_pct': (inflation_US2['Inflation'] / inflation_US2['Inflation'].shift(12) - 1) * 100\n",
        "})\n",
        "test['inflation t']=0\n",
        "df3 = pd.merge(test,inflation_US3,how='outer',left_on=['date'],right_on=['date'])\n",
        "df3=df3[df3['Q1'].notnull()]\n",
        "BF=df3\n",
        "\n",
        "#DEFINITION D'un indicateur d'instabilité personnelle\n",
        "\n",
        "\"\"\"\n",
        "On va définir les variables qu'il serait pertinent d'inclure :\n",
        "\n",
        "Q3 : proba changement de résidence dans les douze prochain mois\n",
        "Q10 : 3 : chomeurs\n",
        "Q13new: proba de changer d'emploi\n",
        "Q25v2 : 3 : anticipe baisse de revenus\n",
        "Q30new : proba de ne pas réussir à payer un prêt\n",
        "\n",
        "\"\"\"\n",
        "\n",
        "\n",
        "\n",
        "BF.loc[BF['Q25v2']==3, 'loss expectation'] = 1 #On binarise le fait d'anticiper une baisse de ses revenus\n",
        "\n",
        "\n",
        "\"\"\"\n",
        "Faisons quelques statistiques descriptives dessus :\n",
        "\"\"\"\n",
        "import statistics as stat\n",
        "\n",
        "def weighted_average(dataframe, value, weight):\n",
        "    val = dataframe[value]\n",
        "    wt = dataframe[weight]\n",
        "    return (val * wt).sum() / wt.sum()\n",
        "\n",
        "\n",
        "len(BF['Q8v2part2'])\n",
        "#\n",
        "\n",
        "BF.rename(columns={'tx_evol_ann_pct':'taux inflation','Q8v2part2':'inflation anticipée'},inplace=True)\n",
        "\n",
        "BF.dropna(subset=['weight'], inplace=True)\n",
        "poids = BF['weight'].astype('float')\n",
        "Y = BF['inflation anticipée'].astype('float')\n",
        "#\n",
        "\n",
        "\n",
        "#Alternative : on sépare les différents aspects de l'instabilité personnelle pour ne pas leur donner un poids arbitraire\n",
        "\n",
        "#Allure proba de changement de résidence sous 12 mois\n",
        "BF['Q3']\n",
        "print(\"nb de valeurs manquantes dans Q3 : \"+str(BF['Q3'].isnull().sum()))\n",
        "#440\n",
        "\n",
        "\n",
        "\n",
        "#Allure de l'indicatrice du chômage\n",
        "BF['Q10_3']\n",
        "print(\"nb de valeurs manquantes dans Q10_3 : \"+str(BF['Q10_3'].isnull().sum()))\n",
        "# nb de valeurs manquantes dans Q10_3 : 0\n",
        "# le chômage est tjrs renseigné, c'est cool\n",
        "\n",
        "\n",
        "\n",
        "#Allure proba changer d'emploi\n",
        "BF['Q13new']\n",
        "print(\"nb de valeurs manquantes dans Q13new : \"+str(BF['Q13new'].isnull().sum()))\n",
        "# nb de valeurs manquantes dans Q13new : 53054\n",
        "# c'est une catastrophe absolue, quasiment la moitié des participants n'y ont pas répondu... il faudra sans doute faire une régression qui ne le prend pas en compte\n",
        "\n",
        "\n",
        "\n",
        "#Allure anticipation baisse revenus\n",
        "BF['Q25v2']\n",
        "print(\"nb de valeurs manquantes dans Q25v2 : \"+str(BF['Q25v2'].isnull().sum()))\n",
        "# nb de valeurs manquantes dans Q25v2 : 60\n",
        "\n",
        "\n",
        "\n",
        "#Allure proba ne pas réussir à rembourser un prêt\n",
        "BF['Q30new']\n",
        "print(\"nb de valeurs manquantes dans Q30new : \"+str(BF['Q30new'].isnull().sum()))\n",
        "# nb de valeurs manquantes dans Q30new : 226\n",
        "\n",
        "\n",
        "\n",
        "BF\n"
      ],
      "metadata": {
        "id": "gSLY8goq8-aw",
        "colab": {
          "base_uri": "https://localhost:8080/",
          "height": 1000
        },
        "outputId": "10092164-1ba6-4b41-935a-cfeb284acc17"
      },
      "execution_count": 9,
      "outputs": [
        {
          "output_type": "stream",
          "name": "stderr",
          "text": [
            "<ipython-input-9-fc510ee59773>:27: FutureWarning: In a future version, the Index constructor will not infer numeric dtypes when passed object-dtype sequences (matching Series behavior)\n",
            "  gender=pd.get_dummies(AA['Q33'])\n"
          ]
        },
        {
          "output_type": "stream",
          "name": "stdout",
          "text": [
            "                                 OLS Regression Results                                 \n",
            "========================================================================================\n",
            "Dep. Variable:     inflation anticipée   R-squared (uncentered):                   0.003\n",
            "Model:                             OLS   Adj. R-squared (uncentered):              0.003\n",
            "Method:                  Least Squares   F-statistic:                              418.8\n",
            "Date:                 Tue, 25 Apr 2023   Prob (F-statistic):                    5.95e-93\n",
            "Time:                         12:12:50   Log-Likelihood:                     -7.5224e+05\n",
            "No. Observations:               140880   AIC:                                  1.504e+06\n",
            "Df Residuals:                   140879   BIC:                                  1.504e+06\n",
            "Df Model:                            1                                                  \n",
            "Covariance Type:             nonrobust                                                  \n",
            "==============================================================================\n",
            "                 coef    std err          t      P>|t|      [0.025      0.975]\n",
            "------------------------------------------------------------------------------\n",
            "femme         10.6235      0.519     20.466      0.000       9.606      11.641\n",
            "==============================================================================\n",
            "Omnibus:                   680557.409   Durbin-Watson:                   1.389\n",
            "Prob(Omnibus):                  0.000   Jarque-Bera (JB):    9377588790626.291\n",
            "Skew:                         191.697   Prob(JB):                         0.00\n",
            "Kurtosis:                   39970.461   Cond. No.                         1.00\n",
            "==============================================================================\n",
            "\n",
            "Notes:\n",
            "[1] R² is computed without centering (uncentered) since the model does not contain a constant.\n",
            "[2] Standard Errors assume that the covariance matrix of the errors is correctly specified.\n"
          ]
        },
        {
          "output_type": "stream",
          "name": "stderr",
          "text": [
            "<ipython-input-9-fc510ee59773>:80: SettingWithCopyWarning: \n",
            "A value is trying to be set on a copy of a slice from a DataFrame.\n",
            "Try using .loc[row_indexer,col_indexer] = value instead\n",
            "\n",
            "See the caveats in the documentation: https://pandas.pydata.org/pandas-docs/stable/user_guide/indexing.html#returning-a-view-versus-a-copy\n",
            "  BF.loc[BF['Q25v2']==3, 'loss expectation'] = 1 #On binarise le fait d'anticiper une baisse de ses revenus\n",
            "<ipython-input-9-fc510ee59773>:97: SettingWithCopyWarning: \n",
            "A value is trying to be set on a copy of a slice from a DataFrame\n",
            "\n",
            "See the caveats in the documentation: https://pandas.pydata.org/pandas-docs/stable/user_guide/indexing.html#returning-a-view-versus-a-copy\n",
            "  BF.rename(columns={'tx_evol_ann_pct':'taux inflation','Q8v2part2':'inflation anticipée'},inplace=True)\n"
          ]
        },
        {
          "output_type": "stream",
          "name": "stdout",
          "text": [
            "nb de valeurs manquantes dans Q3 : 440\n",
            "nb de valeurs manquantes dans Q10_3 : 0\n",
            "nb de valeurs manquantes dans Q13new : 53412\n",
            "nb de valeurs manquantes dans Q25v2 : 58\n",
            "nb de valeurs manquantes dans Q30new : 224\n"
          ]
        },
        {
          "output_type": "execute_result",
          "data": {
            "text/plain": [
              "             date    userid tenure     weight Q1 Q2   Q3 Q4new Q5new Q6new  \\\n",
              "0      2013-06-01  70000220      6  16.327999  3  3   50    20    10    15   \n",
              "1      2013-06-01  70000224      7      0.228  4  4   25    10    25    75   \n",
              "2      2013-06-01  70000234      6      4.066  4  3    3     9    20    20   \n",
              "3      2013-06-01  70000238      6      3.035  3  3    0    10     5    70   \n",
              "4      2013-06-01  70000239      7      1.947  2  3   10    20    20    50   \n",
              "...           ...       ...    ...        ... .. ..  ...   ...   ...   ...   \n",
              "130639 2022-06-01  75007148      1   0.714652  3  2    0    22   100    10   \n",
              "130640 2022-06-01  75007149      1   1.373903  1  1   11     0     0    30   \n",
              "130641 2022-06-01  75007151      1   1.235504  2  4   25    30     0    85   \n",
              "130642 2022-06-01  75007154      1   0.725876  4  3  100    80    70    90   \n",
              "130643 2022-06-01  75007158      1   0.524731  3  3    0    50     0     0   \n",
              "\n",
              "        ... Under 40 50k to 100k Over 100k Under 50k High  Low femme  \\\n",
              "0       ...      1.0         0.0       0.0       1.0  1.0  0.0   1.0   \n",
              "1       ...      0.0         0.0       1.0       0.0  1.0  0.0   0.0   \n",
              "2       ...      0.0         0.0       1.0       0.0  1.0  0.0   1.0   \n",
              "3       ...      0.0         0.0       0.0       1.0  0.0  1.0   0.0   \n",
              "4       ...      0.0         0.0       0.0       1.0  0.0  1.0   1.0   \n",
              "...     ...      ...         ...       ...       ...  ...  ...   ...   \n",
              "130639  ...      1.0         1.0       0.0       0.0  0.0  1.0   1.0   \n",
              "130640  ...      0.0         0.0       0.0       1.0  1.0  0.0   0.0   \n",
              "130641  ...      1.0         0.0       0.0       1.0  1.0  0.0   0.0   \n",
              "130642  ...      1.0         0.0       1.0       0.0  1.0  0.0   0.0   \n",
              "130643  ...      0.0         1.0       0.0       0.0  1.0  0.0   0.0   \n",
              "\n",
              "       inflation t taux inflation loss expectation  \n",
              "0              0.0       1.754417              1.0  \n",
              "1              0.0       1.754417              NaN  \n",
              "2              0.0       1.754417              NaN  \n",
              "3              0.0       1.754417              NaN  \n",
              "4              0.0       1.754417              1.0  \n",
              "...            ...            ...              ...  \n",
              "130639         0.0       9.059758              NaN  \n",
              "130640         0.0       9.059758              NaN  \n",
              "130641         0.0       9.059758              NaN  \n",
              "130642         0.0       9.059758              NaN  \n",
              "130643         0.0       9.059758              NaN  \n",
              "\n",
              "[130567 rows x 235 columns]"
            ],
            "text/html": [
              "\n",
              "  <div id=\"df-53f2da1b-71d9-4b60-a666-757abec0364c\">\n",
              "    <div class=\"colab-df-container\">\n",
              "      <div>\n",
              "<style scoped>\n",
              "    .dataframe tbody tr th:only-of-type {\n",
              "        vertical-align: middle;\n",
              "    }\n",
              "\n",
              "    .dataframe tbody tr th {\n",
              "        vertical-align: top;\n",
              "    }\n",
              "\n",
              "    .dataframe thead th {\n",
              "        text-align: right;\n",
              "    }\n",
              "</style>\n",
              "<table border=\"1\" class=\"dataframe\">\n",
              "  <thead>\n",
              "    <tr style=\"text-align: right;\">\n",
              "      <th></th>\n",
              "      <th>date</th>\n",
              "      <th>userid</th>\n",
              "      <th>tenure</th>\n",
              "      <th>weight</th>\n",
              "      <th>Q1</th>\n",
              "      <th>Q2</th>\n",
              "      <th>Q3</th>\n",
              "      <th>Q4new</th>\n",
              "      <th>Q5new</th>\n",
              "      <th>Q6new</th>\n",
              "      <th>...</th>\n",
              "      <th>Under 40</th>\n",
              "      <th>50k to 100k</th>\n",
              "      <th>Over 100k</th>\n",
              "      <th>Under 50k</th>\n",
              "      <th>High</th>\n",
              "      <th>Low</th>\n",
              "      <th>femme</th>\n",
              "      <th>inflation t</th>\n",
              "      <th>taux inflation</th>\n",
              "      <th>loss expectation</th>\n",
              "    </tr>\n",
              "  </thead>\n",
              "  <tbody>\n",
              "    <tr>\n",
              "      <th>0</th>\n",
              "      <td>2013-06-01</td>\n",
              "      <td>70000220</td>\n",
              "      <td>6</td>\n",
              "      <td>16.327999</td>\n",
              "      <td>3</td>\n",
              "      <td>3</td>\n",
              "      <td>50</td>\n",
              "      <td>20</td>\n",
              "      <td>10</td>\n",
              "      <td>15</td>\n",
              "      <td>...</td>\n",
              "      <td>1.0</td>\n",
              "      <td>0.0</td>\n",
              "      <td>0.0</td>\n",
              "      <td>1.0</td>\n",
              "      <td>1.0</td>\n",
              "      <td>0.0</td>\n",
              "      <td>1.0</td>\n",
              "      <td>0.0</td>\n",
              "      <td>1.754417</td>\n",
              "      <td>1.0</td>\n",
              "    </tr>\n",
              "    <tr>\n",
              "      <th>1</th>\n",
              "      <td>2013-06-01</td>\n",
              "      <td>70000224</td>\n",
              "      <td>7</td>\n",
              "      <td>0.228</td>\n",
              "      <td>4</td>\n",
              "      <td>4</td>\n",
              "      <td>25</td>\n",
              "      <td>10</td>\n",
              "      <td>25</td>\n",
              "      <td>75</td>\n",
              "      <td>...</td>\n",
              "      <td>0.0</td>\n",
              "      <td>0.0</td>\n",
              "      <td>1.0</td>\n",
              "      <td>0.0</td>\n",
              "      <td>1.0</td>\n",
              "      <td>0.0</td>\n",
              "      <td>0.0</td>\n",
              "      <td>0.0</td>\n",
              "      <td>1.754417</td>\n",
              "      <td>NaN</td>\n",
              "    </tr>\n",
              "    <tr>\n",
              "      <th>2</th>\n",
              "      <td>2013-06-01</td>\n",
              "      <td>70000234</td>\n",
              "      <td>6</td>\n",
              "      <td>4.066</td>\n",
              "      <td>4</td>\n",
              "      <td>3</td>\n",
              "      <td>3</td>\n",
              "      <td>9</td>\n",
              "      <td>20</td>\n",
              "      <td>20</td>\n",
              "      <td>...</td>\n",
              "      <td>0.0</td>\n",
              "      <td>0.0</td>\n",
              "      <td>1.0</td>\n",
              "      <td>0.0</td>\n",
              "      <td>1.0</td>\n",
              "      <td>0.0</td>\n",
              "      <td>1.0</td>\n",
              "      <td>0.0</td>\n",
              "      <td>1.754417</td>\n",
              "      <td>NaN</td>\n",
              "    </tr>\n",
              "    <tr>\n",
              "      <th>3</th>\n",
              "      <td>2013-06-01</td>\n",
              "      <td>70000238</td>\n",
              "      <td>6</td>\n",
              "      <td>3.035</td>\n",
              "      <td>3</td>\n",
              "      <td>3</td>\n",
              "      <td>0</td>\n",
              "      <td>10</td>\n",
              "      <td>5</td>\n",
              "      <td>70</td>\n",
              "      <td>...</td>\n",
              "      <td>0.0</td>\n",
              "      <td>0.0</td>\n",
              "      <td>0.0</td>\n",
              "      <td>1.0</td>\n",
              "      <td>0.0</td>\n",
              "      <td>1.0</td>\n",
              "      <td>0.0</td>\n",
              "      <td>0.0</td>\n",
              "      <td>1.754417</td>\n",
              "      <td>NaN</td>\n",
              "    </tr>\n",
              "    <tr>\n",
              "      <th>4</th>\n",
              "      <td>2013-06-01</td>\n",
              "      <td>70000239</td>\n",
              "      <td>7</td>\n",
              "      <td>1.947</td>\n",
              "      <td>2</td>\n",
              "      <td>3</td>\n",
              "      <td>10</td>\n",
              "      <td>20</td>\n",
              "      <td>20</td>\n",
              "      <td>50</td>\n",
              "      <td>...</td>\n",
              "      <td>0.0</td>\n",
              "      <td>0.0</td>\n",
              "      <td>0.0</td>\n",
              "      <td>1.0</td>\n",
              "      <td>0.0</td>\n",
              "      <td>1.0</td>\n",
              "      <td>1.0</td>\n",
              "      <td>0.0</td>\n",
              "      <td>1.754417</td>\n",
              "      <td>1.0</td>\n",
              "    </tr>\n",
              "    <tr>\n",
              "      <th>...</th>\n",
              "      <td>...</td>\n",
              "      <td>...</td>\n",
              "      <td>...</td>\n",
              "      <td>...</td>\n",
              "      <td>...</td>\n",
              "      <td>...</td>\n",
              "      <td>...</td>\n",
              "      <td>...</td>\n",
              "      <td>...</td>\n",
              "      <td>...</td>\n",
              "      <td>...</td>\n",
              "      <td>...</td>\n",
              "      <td>...</td>\n",
              "      <td>...</td>\n",
              "      <td>...</td>\n",
              "      <td>...</td>\n",
              "      <td>...</td>\n",
              "      <td>...</td>\n",
              "      <td>...</td>\n",
              "      <td>...</td>\n",
              "      <td>...</td>\n",
              "    </tr>\n",
              "    <tr>\n",
              "      <th>130639</th>\n",
              "      <td>2022-06-01</td>\n",
              "      <td>75007148</td>\n",
              "      <td>1</td>\n",
              "      <td>0.714652</td>\n",
              "      <td>3</td>\n",
              "      <td>2</td>\n",
              "      <td>0</td>\n",
              "      <td>22</td>\n",
              "      <td>100</td>\n",
              "      <td>10</td>\n",
              "      <td>...</td>\n",
              "      <td>1.0</td>\n",
              "      <td>1.0</td>\n",
              "      <td>0.0</td>\n",
              "      <td>0.0</td>\n",
              "      <td>0.0</td>\n",
              "      <td>1.0</td>\n",
              "      <td>1.0</td>\n",
              "      <td>0.0</td>\n",
              "      <td>9.059758</td>\n",
              "      <td>NaN</td>\n",
              "    </tr>\n",
              "    <tr>\n",
              "      <th>130640</th>\n",
              "      <td>2022-06-01</td>\n",
              "      <td>75007149</td>\n",
              "      <td>1</td>\n",
              "      <td>1.373903</td>\n",
              "      <td>1</td>\n",
              "      <td>1</td>\n",
              "      <td>11</td>\n",
              "      <td>0</td>\n",
              "      <td>0</td>\n",
              "      <td>30</td>\n",
              "      <td>...</td>\n",
              "      <td>0.0</td>\n",
              "      <td>0.0</td>\n",
              "      <td>0.0</td>\n",
              "      <td>1.0</td>\n",
              "      <td>1.0</td>\n",
              "      <td>0.0</td>\n",
              "      <td>0.0</td>\n",
              "      <td>0.0</td>\n",
              "      <td>9.059758</td>\n",
              "      <td>NaN</td>\n",
              "    </tr>\n",
              "    <tr>\n",
              "      <th>130641</th>\n",
              "      <td>2022-06-01</td>\n",
              "      <td>75007151</td>\n",
              "      <td>1</td>\n",
              "      <td>1.235504</td>\n",
              "      <td>2</td>\n",
              "      <td>4</td>\n",
              "      <td>25</td>\n",
              "      <td>30</td>\n",
              "      <td>0</td>\n",
              "      <td>85</td>\n",
              "      <td>...</td>\n",
              "      <td>1.0</td>\n",
              "      <td>0.0</td>\n",
              "      <td>0.0</td>\n",
              "      <td>1.0</td>\n",
              "      <td>1.0</td>\n",
              "      <td>0.0</td>\n",
              "      <td>0.0</td>\n",
              "      <td>0.0</td>\n",
              "      <td>9.059758</td>\n",
              "      <td>NaN</td>\n",
              "    </tr>\n",
              "    <tr>\n",
              "      <th>130642</th>\n",
              "      <td>2022-06-01</td>\n",
              "      <td>75007154</td>\n",
              "      <td>1</td>\n",
              "      <td>0.725876</td>\n",
              "      <td>4</td>\n",
              "      <td>3</td>\n",
              "      <td>100</td>\n",
              "      <td>80</td>\n",
              "      <td>70</td>\n",
              "      <td>90</td>\n",
              "      <td>...</td>\n",
              "      <td>1.0</td>\n",
              "      <td>0.0</td>\n",
              "      <td>1.0</td>\n",
              "      <td>0.0</td>\n",
              "      <td>1.0</td>\n",
              "      <td>0.0</td>\n",
              "      <td>0.0</td>\n",
              "      <td>0.0</td>\n",
              "      <td>9.059758</td>\n",
              "      <td>NaN</td>\n",
              "    </tr>\n",
              "    <tr>\n",
              "      <th>130643</th>\n",
              "      <td>2022-06-01</td>\n",
              "      <td>75007158</td>\n",
              "      <td>1</td>\n",
              "      <td>0.524731</td>\n",
              "      <td>3</td>\n",
              "      <td>3</td>\n",
              "      <td>0</td>\n",
              "      <td>50</td>\n",
              "      <td>0</td>\n",
              "      <td>0</td>\n",
              "      <td>...</td>\n",
              "      <td>0.0</td>\n",
              "      <td>1.0</td>\n",
              "      <td>0.0</td>\n",
              "      <td>0.0</td>\n",
              "      <td>1.0</td>\n",
              "      <td>0.0</td>\n",
              "      <td>0.0</td>\n",
              "      <td>0.0</td>\n",
              "      <td>9.059758</td>\n",
              "      <td>NaN</td>\n",
              "    </tr>\n",
              "  </tbody>\n",
              "</table>\n",
              "<p>130567 rows × 235 columns</p>\n",
              "</div>\n",
              "      <button class=\"colab-df-convert\" onclick=\"convertToInteractive('df-53f2da1b-71d9-4b60-a666-757abec0364c')\"\n",
              "              title=\"Convert this dataframe to an interactive table.\"\n",
              "              style=\"display:none;\">\n",
              "        \n",
              "  <svg xmlns=\"http://www.w3.org/2000/svg\" height=\"24px\"viewBox=\"0 0 24 24\"\n",
              "       width=\"24px\">\n",
              "    <path d=\"M0 0h24v24H0V0z\" fill=\"none\"/>\n",
              "    <path d=\"M18.56 5.44l.94 2.06.94-2.06 2.06-.94-2.06-.94-.94-2.06-.94 2.06-2.06.94zm-11 1L8.5 8.5l.94-2.06 2.06-.94-2.06-.94L8.5 2.5l-.94 2.06-2.06.94zm10 10l.94 2.06.94-2.06 2.06-.94-2.06-.94-.94-2.06-.94 2.06-2.06.94z\"/><path d=\"M17.41 7.96l-1.37-1.37c-.4-.4-.92-.59-1.43-.59-.52 0-1.04.2-1.43.59L10.3 9.45l-7.72 7.72c-.78.78-.78 2.05 0 2.83L4 21.41c.39.39.9.59 1.41.59.51 0 1.02-.2 1.41-.59l7.78-7.78 2.81-2.81c.8-.78.8-2.07 0-2.86zM5.41 20L4 18.59l7.72-7.72 1.47 1.35L5.41 20z\"/>\n",
              "  </svg>\n",
              "      </button>\n",
              "      \n",
              "  <style>\n",
              "    .colab-df-container {\n",
              "      display:flex;\n",
              "      flex-wrap:wrap;\n",
              "      gap: 12px;\n",
              "    }\n",
              "\n",
              "    .colab-df-convert {\n",
              "      background-color: #E8F0FE;\n",
              "      border: none;\n",
              "      border-radius: 50%;\n",
              "      cursor: pointer;\n",
              "      display: none;\n",
              "      fill: #1967D2;\n",
              "      height: 32px;\n",
              "      padding: 0 0 0 0;\n",
              "      width: 32px;\n",
              "    }\n",
              "\n",
              "    .colab-df-convert:hover {\n",
              "      background-color: #E2EBFA;\n",
              "      box-shadow: 0px 1px 2px rgba(60, 64, 67, 0.3), 0px 1px 3px 1px rgba(60, 64, 67, 0.15);\n",
              "      fill: #174EA6;\n",
              "    }\n",
              "\n",
              "    [theme=dark] .colab-df-convert {\n",
              "      background-color: #3B4455;\n",
              "      fill: #D2E3FC;\n",
              "    }\n",
              "\n",
              "    [theme=dark] .colab-df-convert:hover {\n",
              "      background-color: #434B5C;\n",
              "      box-shadow: 0px 1px 3px 1px rgba(0, 0, 0, 0.15);\n",
              "      filter: drop-shadow(0px 1px 2px rgba(0, 0, 0, 0.3));\n",
              "      fill: #FFFFFF;\n",
              "    }\n",
              "  </style>\n",
              "\n",
              "      <script>\n",
              "        const buttonEl =\n",
              "          document.querySelector('#df-53f2da1b-71d9-4b60-a666-757abec0364c button.colab-df-convert');\n",
              "        buttonEl.style.display =\n",
              "          google.colab.kernel.accessAllowed ? 'block' : 'none';\n",
              "\n",
              "        async function convertToInteractive(key) {\n",
              "          const element = document.querySelector('#df-53f2da1b-71d9-4b60-a666-757abec0364c');\n",
              "          const dataTable =\n",
              "            await google.colab.kernel.invokeFunction('convertToInteractive',\n",
              "                                                     [key], {});\n",
              "          if (!dataTable) return;\n",
              "\n",
              "          const docLinkHtml = 'Like what you see? Visit the ' +\n",
              "            '<a target=\"_blank\" href=https://colab.research.google.com/notebooks/data_table.ipynb>data table notebook</a>'\n",
              "            + ' to learn more about interactive tables.';\n",
              "          element.innerHTML = '';\n",
              "          dataTable['output_type'] = 'display_data';\n",
              "          await google.colab.output.renderOutput(dataTable, element);\n",
              "          const docLink = document.createElement('div');\n",
              "          docLink.innerHTML = docLinkHtml;\n",
              "          element.appendChild(docLink);\n",
              "        }\n",
              "      </script>\n",
              "    </div>\n",
              "  </div>\n",
              "  "
            ]
          },
          "metadata": {},
          "execution_count": 9
        }
      ]
    },
    {
      "cell_type": "code",
      "source": [
        "#Ca je l'ai ravancé sinon ça bloqué\n",
        "\n",
        "#obtention d'une colonne proba diminution indices boursiers\n",
        "BF['Q6new_bis'] = 100-BF['Q6new']\n",
        "BF['Q6new_bis'] = BF['Q6new_bis'].astype(float)"
      ],
      "metadata": {
        "id": "RVRl7bgG9YC6"
      },
      "execution_count": 10,
      "outputs": []
    },
    {
      "cell_type": "markdown",
      "source": [
        "C'est à partir de là que commence les modifications"
      ],
      "metadata": {
        "id": "m5qunh1l9pTb"
      }
    },
    {
      "cell_type": "code",
      "source": [
        "##Tentative de maxi regression\n",
        "\n",
        "\n",
        "#On renomme les variables\n",
        "BF.rename(columns={'Q10_3':'chômage','Q3': 'proba chgt résidence','Q4new':'proba hausse chomage','Q5new':'proba hausse taux intêret','Q6new_bis':'proba diminution indices boursiers','Q25v2':'anticipation baisse revenus','Q30new':'proba non-remboursement prêt'},inplace=True)\n",
        "\n",
        "BF.rename(columns={'High': 'High_num','Over 60':'age > 60 ans','Under 40':'age < 40 ans','College':'Niveau licence','Over 100k':'revenus > $100k','Under 50k':'revenus < $50k'}, inplace=True)\n",
        "\n",
        "#On squarise les deux variables qui nous semblait chelou : hausse taux car ça paraissait être une relation quadratique || chgt residence (qui ne semblait pas avoir d'effet linéairement) pck on sait jamais\n",
        "BF['proba hausse taux intêret square'] = (BF['proba hausse taux intêret'] - 50)**2\n",
        "BF['proba chgt résidence square'] = (BF['proba chgt résidence']-50)**2\n",
        "\n",
        "\n",
        "#Fonction qui permet de créer les variables multipliées par l'inflation\n",
        "def produitisation(df,reg,a='taux inflation'):\n",
        "    for r in reg:\n",
        "        s = r + ' * inflation'\n",
        "        df[s]=df[a]*df[r]\n",
        "    return [r+' * inflation' for r in reg]\n",
        "\n",
        "#Crée les indicatrices temporelles\n",
        "def timisation(df,a=2013,b=2022):\n",
        "    for d in range(a,b+1):\n",
        "        df['t'+str(d)]=(df['date']>=str(d)+'-01-01')*1 - (df['date']>=str(d+1)+'-01-01')*1\n",
        "\n",
        "timisation(BF)\n",
        "\n",
        "\n",
        "#Ca c'est pour si on a besoin de la variable PIB que j'avais préparé\n",
        "\n",
        "#def PIBisation(df,a=2013,b=2022):\n",
        "#    v = float(pib.loc[str(a)])*df['t'+str(a)]\n",
        "#    for d in range(a+1,b+1):\n",
        "#        v = v + float(pib.loc[str(d)])*df['t'+str(d)]\n",
        "#    return v\n",
        "#\n",
        "#BF['PIB'] = PIBisation(BF)"
      ],
      "metadata": {
        "id": "dgTkidfr9kSc"
      },
      "execution_count": 11,
      "outputs": []
    },
    {
      "cell_type": "markdown",
      "source": [
        "Maintenant que BF contient toutes les varibles qui nous intéresse, il ne nous reste plus qu'à sélectionner les variables sur lesquels on veut régresser à chaque fois : (_Prod est le vecteur contenant les varibles de _ multipliées par l'inflation)"
      ],
      "metadata": {
        "id": "j3IvYicl-vM0"
      }
    },
    {
      "cell_type": "code",
      "source": [
        "\n",
        "\n",
        "Classicreg = ['taux inflation']\n",
        "Xreg = ['femme','age > 60 ans','age < 40 ans','Niveau licence','revenus > $100k','revenus < $50k','High_num']\n",
        "XregProd = produitisation(BF,Xreg)\n",
        "\n",
        "Times1reg = ['t'+str(y) for y in range(2013,2020)] #pour les regressions \"av\" : de 2013 à 2019\n",
        "Times2reg = ['t'+str(y) for y in range(2020,2023)] #pour les regressions \"ap\" : de été 2020 à 2022\n",
        "\n",
        "Macroreg = ['proba hausse chomage','proba hausse taux intêret','proba hausse taux intêret square','proba diminution indices boursiers']#des proba sur 100\n",
        "MacroregProd = produitisation(BF,Macroreg)\n",
        "\n",
        "# Microreg = ['chômage','anticipation baisse revenus','proba chgt résidence','proba chgt résidence square','proba non-remboursement prêt']#indicatrice et des proba sur 100\n",
        "Microreg = ['chômage','anticipation baisse revenus','proba non-remboursement prêt']#indicatrice et des proba sur 100\n",
        "MicroregProd = produitisation(BF,Microreg)\n",
        "\n",
        "\n",
        "#Toujours pour le PIB\n",
        "\n",
        "#Wreg = ['PIB']\n",
        "#WregProd = produitisation(BF,Wreg)\n"
      ],
      "metadata": {
        "id": "dJTuQskB-q5x"
      },
      "execution_count": 12,
      "outputs": []
    },
    {
      "cell_type": "markdown",
      "source": [
        "Du coup après on choisit les regresseurs qu'on veut pour \"av\" (1) et \"ap\" (2) :"
      ],
      "metadata": {
        "id": "muH3qd8m_3ky"
      }
    },
    {
      "cell_type": "code",
      "source": [
        "regresseurs1 = Classicreg + Times1reg + Xreg +Microreg + Macroreg\n",
        "\n",
        "regresseurs2 = Classicreg + Times2reg + Xreg +  Microreg +  Macroreg"
      ],
      "metadata": {
        "id": "Uz0g2ISh_hu_"
      },
      "execution_count": 13,
      "outputs": []
    },
    {
      "cell_type": "markdown",
      "source": [
        "Regressions pour 2013-2019 :"
      ],
      "metadata": {
        "id": "-yLHCzx7AJJz"
      }
    },
    {
      "cell_type": "code",
      "source": [
        "\n",
        "#retrait des valeurs manquantes\n",
        "BF4 =BF.where(BF['date'].astype(str)<'2020-01-01').dropna(subset=regresseurs1+['inflation anticipée'])\n",
        "\n",
        "\n",
        "#du coup on re binarise Q25v2\n",
        "BF4['anticipation baisse revenus'] = (BF4['anticipation baisse revenus']==3)*1\n",
        "BF4['anticipation baisse revenus']=BF4.fillna(0)['anticipation baisse revenus']\n",
        "\n",
        "\n",
        "BF4.dropna(subset=['weight'], inplace=True)\n",
        "\n",
        "#transformation des colonnes en float\n",
        "for element in regresseurs1 :\n",
        "    BF4[element] = BF4[element].astype(float)\n",
        "\n",
        "poids = BF4['weight'].astype('float')\n",
        "\n",
        "\n",
        "Y1 = BF4['inflation anticipée'].astype(float)\n",
        "\n",
        "X1 = BF4[regresseurs1] \n",
        "\n",
        "X1 = sm.add_constant(X1)\n",
        "model1 = sm.WLS(Y1,X1, weights=poids)\n",
        "results1 = model1.fit()\n",
        "su1 = results1.summary()\n",
        "print(su1)"
      ],
      "metadata": {
        "id": "FhYNrefKAEHL",
        "colab": {
          "base_uri": "https://localhost:8080/"
        },
        "outputId": "11ea1dce-b4da-4d19-d1df-8559d78ca59b"
      },
      "execution_count": 39,
      "outputs": [
        {
          "output_type": "stream",
          "name": "stdout",
          "text": [
            "                             WLS Regression Results                            \n",
            "===============================================================================\n",
            "Dep. Variable:     inflation anticipée   R-squared:                       0.057\n",
            "Model:                             WLS   Adj. R-squared:                  0.057\n",
            "Method:                  Least Squares   F-statistic:                     231.7\n",
            "Date:                 Tue, 25 Apr 2023   Prob (F-statistic):               0.00\n",
            "Time:                         12:32:19   Log-Likelihood:            -3.0866e+05\n",
            "No. Observations:                96101   AIC:                         6.174e+05\n",
            "Df Residuals:                    96075   BIC:                         6.176e+05\n",
            "Df Model:                           25                                         \n",
            "Covariance Type:             nonrobust                                         \n",
            "======================================================================================================\n",
            "                                         coef    std err          t      P>|t|      [0.025      0.975]\n",
            "------------------------------------------------------------------------------------------------------\n",
            "const                                  1.7787      0.138     12.867      0.000       1.508       2.050\n",
            "taux inflation                         0.2485      0.081      3.081      0.002       0.090       0.407\n",
            "t2013                                  1.0630      0.057     18.771      0.000       0.952       1.174\n",
            "t2014                                  0.6058      0.048     12.734      0.000       0.513       0.699\n",
            "t2015                                  0.3891      0.083      4.677      0.000       0.226       0.552\n",
            "t2016                                 -0.0331      0.046     -0.718      0.473      -0.124       0.057\n",
            "t2017                                 -0.1914      0.063     -3.048      0.002      -0.314      -0.068\n",
            "t2018                                  0.0925      0.077      1.206      0.228      -0.058       0.243\n",
            "t2019                                 -0.1471      0.052     -2.844      0.004      -0.249      -0.046\n",
            "femme                                  1.2738      0.173      7.368      0.000       0.935       1.613\n",
            "age > 60 ans                           0.7870      0.094      8.370      0.000       0.603       0.971\n",
            "age < 40 ans                           0.0547      0.099      0.552      0.581      -0.140       0.249\n",
            "Niveau licence                        -0.8019      0.093     -8.597      0.000      -0.985      -0.619\n",
            "revenus > $100k                       -0.2393      0.110     -2.171      0.030      -0.455      -0.023\n",
            "revenus < $50k                         0.5389      0.095      5.670      0.000       0.353       0.725\n",
            "High_num                              -0.8283      0.089     -9.275      0.000      -1.003      -0.653\n",
            "femme * inflation                     -0.1318      0.099     -1.325      0.185      -0.327       0.063\n",
            "age > 60 ans * inflation              -0.2628      0.054     -4.878      0.000      -0.368      -0.157\n",
            "age < 40 ans * inflation              -0.2455      0.057     -4.299      0.000      -0.357      -0.134\n",
            "Niveau licence * inflation             0.1352      0.053      2.549      0.011       0.031       0.239\n",
            "revenus > $100k * inflation           -0.0995      0.063     -1.586      0.113      -0.222       0.023\n",
            "revenus < $50k * inflation            -0.0536      0.055     -0.979      0.328      -0.161       0.054\n",
            "High_num * inflation                   0.1165      0.051      2.266      0.023       0.016       0.217\n",
            "proba hausse chomage                   0.0343      0.001     42.481      0.000       0.033       0.036\n",
            "proba hausse taux intêret             -0.0067      0.001     -6.946      0.000      -0.009      -0.005\n",
            "proba hausse taux intêret square       0.0002   2.77e-05      8.962      0.000       0.000       0.000\n",
            "proba diminution indices boursiers     0.0166      0.001     18.781      0.000       0.015       0.018\n",
            "==============================================================================\n",
            "Omnibus:                    22429.030   Durbin-Watson:                   1.989\n",
            "Prob(Omnibus):                  0.000   Jarque-Bera (JB):           755927.001\n",
            "Skew:                          -0.431   Prob(JB):                         0.00\n",
            "Kurtosis:                      16.713   Cond. No.                     5.12e+15\n",
            "==============================================================================\n",
            "\n",
            "Notes:\n",
            "[1] Standard Errors assume that the covariance matrix of the errors is correctly specified.\n",
            "[2] The smallest eigenvalue is 6.19e-21. This might indicate that there are\n",
            "strong multicollinearity problems or that the design matrix is singular.\n"
          ]
        }
      ]
    },
    {
      "cell_type": "markdown",
      "source": [
        "Regressions pour été 2020-2022 :"
      ],
      "metadata": {
        "id": "zt5HjWB9AQBe"
      }
    },
    {
      "cell_type": "code",
      "source": [
        "\n",
        "#retrait des valeurs manquantes\n",
        "BF5 =BF.where(BF['date'].astype(str)>'2020-06-20').dropna(subset=regresseurs2+['inflation anticipée'])\n",
        "\n",
        "\n",
        "#du coup on re binarise Q25v2\n",
        "BF5['anticipation baisse revenus'] = (BF5['anticipation baisse revenus']==3)*1\n",
        "BF5['anticipation baisse revenus']=BF5.fillna(0)['anticipation baisse revenus']\n",
        "\n",
        "\n",
        "BF5.dropna(subset=['weight'], inplace=True)\n",
        "\n",
        "#transformation des colonnes en float\n",
        "for element in regresseurs2 :\n",
        "    BF5[element] = BF5[element].astype(float)\n",
        "\n",
        "poids = BF5['weight'].astype('float')\n",
        "\n",
        "\n",
        "Y2 = BF5['inflation anticipée'].astype(float)\n",
        "X2 = BF5[regresseurs2]\n",
        "X2 = sm.add_constant(X2)\n",
        "model2 = sm.WLS(Y2,X2, weights=poids)\n",
        "results2 = model2.fit()\n",
        "su2 = results2.summary()\n",
        "print(su2)"
      ],
      "metadata": {
        "id": "f3h3G1utAE46",
        "colab": {
          "base_uri": "https://localhost:8080/"
        },
        "outputId": "f58d5218-f07a-4b47-ca0d-c9c51700592b"
      },
      "execution_count": 15,
      "outputs": [
        {
          "output_type": "stream",
          "name": "stdout",
          "text": [
            "                             WLS Regression Results                            \n",
            "===============================================================================\n",
            "Dep. Variable:     inflation anticipée   R-squared:                       0.103\n",
            "Model:                             WLS   Adj. R-squared:                  0.102\n",
            "Method:                  Least Squares   F-statistic:                     179.5\n",
            "Date:                 Tue, 25 Apr 2023   Prob (F-statistic):               0.00\n",
            "Time:                         12:15:35   Log-Likelihood:                -87796.\n",
            "No. Observations:                26669   AIC:                         1.756e+05\n",
            "Df Residuals:                    26651   BIC:                         1.758e+05\n",
            "Df Model:                           17                                         \n",
            "Covariance Type:             nonrobust                                         \n",
            "======================================================================================================\n",
            "                                         coef    std err          t      P>|t|      [0.025      0.975]\n",
            "------------------------------------------------------------------------------------------------------\n",
            "const                                  1.4900      0.176      8.473      0.000       1.145       1.835\n",
            "taux inflation                         0.3923      0.028     14.004      0.000       0.337       0.447\n",
            "t2020                                  0.1951      0.098      1.983      0.047       0.002       0.388\n",
            "t2021                                  0.8969      0.072     12.438      0.000       0.756       1.038\n",
            "t2022                                  0.3980      0.154      2.580      0.010       0.096       0.700\n",
            "femme                                  0.9821      0.168      5.862      0.000       0.654       1.310\n",
            "age > 60 ans                           0.5413      0.088      6.149      0.000       0.369       0.714\n",
            "age < 40 ans                          -0.5826      0.094     -6.209      0.000      -0.767      -0.399\n",
            "Niveau licence                        -1.0304      0.083    -12.386      0.000      -1.193      -0.867\n",
            "revenus > $100k                       -0.1833      0.092     -1.994      0.046      -0.363      -0.003\n",
            "revenus < $50k                         0.5948      0.092      6.482      0.000       0.415       0.775\n",
            "High_num                              -0.8075      0.085     -9.495      0.000      -0.974      -0.641\n",
            "chômage                               -0.5421      0.200     -2.717      0.007      -0.933      -0.151\n",
            "anticipation baisse revenus           -0.0398      0.106     -0.377      0.707      -0.247       0.167\n",
            "proba non-remboursement prêt           0.0101      0.002      4.698      0.000       0.006       0.014\n",
            "proba hausse chomage                   0.0379      0.002     23.376      0.000       0.035       0.041\n",
            "proba hausse taux intêret             -0.0015      0.002     -0.769      0.442      -0.005       0.002\n",
            "proba hausse taux intêret square       0.0004    5.6e-05      7.383      0.000       0.000       0.001\n",
            "proba diminution indices boursiers     0.0171      0.002      9.764      0.000       0.014       0.021\n",
            "==============================================================================\n",
            "Omnibus:                     5782.367   Durbin-Watson:                   2.002\n",
            "Prob(Omnibus):                  0.000   Jarque-Bera (JB):           124635.638\n",
            "Skew:                          -0.503   Prob(JB):                         0.00\n",
            "Kurtosis:                      13.543   Cond. No.                     1.92e+18\n",
            "==============================================================================\n",
            "\n",
            "Notes:\n",
            "[1] Standard Errors assume that the covariance matrix of the errors is correctly specified.\n",
            "[2] The smallest eigenvalue is 1.34e-26. This might indicate that there are\n",
            "strong multicollinearity problems or that the design matrix is singular.\n"
          ]
        }
      ]
    },
    {
      "cell_type": "markdown",
      "source": [
        "OK du coup là on finit pour la première régression"
      ],
      "metadata": {
        "id": "S2EsEO7tAgDO"
      }
    },
    {
      "cell_type": "markdown",
      "source": [
        "# Deuxième spécification"
      ],
      "metadata": {
        "id": "2lElcGe1AjuK"
      }
    },
    {
      "cell_type": "code",
      "source": [
        "#J'ai pas touché à ça\n",
        "\n",
        "list(BF.head())\n",
        "\n",
        "\n",
        "\"\"\"\n",
        "On doit définir les intervalles qui vont nous intéresser ici :\n",
        "\n",
        "pour l'inflation à court terme: Q9 inflation supérieur à 4% (bin 1, bin 2 et bin 3)\n",
        "\n",
        "déflation : bin6 à bin 10\n",
        "\n",
        "long terme: Q9c+les mêmes bin\n",
        "\n",
        "N.B : On considère pour la suite que les anticipations non remplies sont de 10 ( équiprobabilit de chaque tranche )\n",
        "\"\"\"\n",
        "\n",
        "BF['proba_st_high']=(BF['Q9_bin1'].fillna(10)+BF['Q9_bin2'].fillna(10)+BF['Q9_bin3'].fillna(10))\n",
        "\n",
        "BF['proba_st_defl']=(BF['Q9_bin6'].fillna(10)+BF['Q9_bin7'].fillna(10)+BF['Q9_bin8'].fillna(10)+BF['Q9_bin9'].fillna(10)+BF['Q9_bin10'].fillna(10))\n",
        "\n",
        "BF['proba_lt_high']=(BF['Q9c_bin1'].fillna(10)+BF['Q9c_bin2'].fillna(10)+BF['Q9c_bin3'].fillna(10))\n",
        "\n",
        "BF['proba_lt_defl']=(BF['Q9c_bin6'].fillna(10)+BF['Q9c_bin7'].fillna(10)+BF['Q9c_bin8'].fillna(10)+BF['Q9c_bin9'].fillna(10)+BF['Q9c_bin10'].fillna(10))"
      ],
      "metadata": {
        "id": "F0VpOVOfAfMg"
      },
      "execution_count": 16,
      "outputs": []
    },
    {
      "cell_type": "markdown",
      "source": [
        "Du coup le choix des regresseurs :"
      ],
      "metadata": {
        "id": "wBDjW8R5AxhH"
      }
    },
    {
      "cell_type": "code",
      "source": [
        "\n",
        "Classicreg = ['taux inflation']\n",
        "Xreg = ['femme','age > 60 ans','age < 40 ans','Niveau licence','revenus > $100k','revenus < $50k','High_num']\n",
        "XregProd = produitisation(BF,Xreg)\n",
        "\n",
        "Timesreg = ['t'+str(y) for y in range(2013,2023)]\n",
        "\n",
        "\n",
        "Macroreg = ['proba hausse chomage','proba hausse taux intêret','proba hausse taux intêret square','proba diminution indices boursiers']#des proba sur 100\n",
        "MacroregProd = produitisation(BF,Macroreg)\n",
        "\n",
        "Microreg = ['chômage','anticipation baisse revenus','proba chgt résidence','proba chgt résidence square','proba non-remboursement prêt']#indicatrice et des proba sur 100\n",
        "MicroregPRod = produitisation(BF,Microreg)\n",
        "\n",
        "#Wreg = ['PIB']\n",
        "#WregProd = produitisation(BF,Wreg)"
      ],
      "metadata": {
        "id": "pQOB9XSbA1RI"
      },
      "execution_count": 17,
      "outputs": []
    },
    {
      "cell_type": "code",
      "source": [
        "regresseurs1 = Classicreg  + Xreg  +Macroreg+Microreg\n",
        "\n",
        "\n",
        "regresseurs2 = Classicreg + Times2reg + Xreg +  XregProd +  Macroreg\n",
        "\n",
        "\n"
      ],
      "metadata": {
        "id": "GVzZzPnbA7Qy"
      },
      "execution_count": 52,
      "outputs": []
    },
    {
      "cell_type": "markdown",
      "source": [
        "A - proba d'une inflation haute à court terme : "
      ],
      "metadata": {
        "id": "B3pODobGannJ"
      }
    },
    {
      "cell_type": "markdown",
      "source": [
        "Du coup je pensais après choisir à chaque fois la proba qu'on voulait expliquée mais on peut tout faire en même temps si vous préférez"
      ],
      "metadata": {
        "id": "SpQR8QC-A-R8"
      }
    },
    {
      "cell_type": "code",
      "source": [
        "regY = 'proba_st_high'\n",
        "# regY = 'proba_st_defl'\n",
        "# regY = 'proba_lt_high'\n",
        "# regY = 'proba_lt_defl'"
      ],
      "metadata": {
        "id": "WJP1cPhrA-k7"
      },
      "execution_count": 19,
      "outputs": []
    },
    {
      "cell_type": "markdown",
      "source": [
        "Et rebelote !"
      ],
      "metadata": {
        "id": "EXwSLXjgBMqb"
      }
    },
    {
      "cell_type": "code",
      "source": [
        "max(BF4[regY])"
      ],
      "metadata": {
        "colab": {
          "base_uri": "https://localhost:8080/"
        },
        "id": "TbCO2JEdY_zy",
        "outputId": "0d353072-cab2-497a-e47a-fddee9f572a0"
      },
      "execution_count": 47,
      "outputs": [
        {
          "output_type": "execute_result",
          "data": {
            "text/plain": [
              "270.0"
            ]
          },
          "metadata": {},
          "execution_count": 47
        }
      ]
    },
    {
      "cell_type": "code",
      "source": [
        "#retrait des valeurs manquantes\n",
        "BF4 =BF.where(BF['date'].astype(str)<'2020-01-01').dropna(subset=regresseurs1+[regY])\n",
        "\n",
        "\n",
        "#du coup on re binarise Q25v2\n",
        "BF4['anticipation baisse revenus'] = (BF4['anticipation baisse revenus']==3)*1\n",
        "BF4['anticipation baisse revenus']=BF4.fillna(0)['anticipation baisse revenus']\n",
        "\n",
        "\n",
        "BF4.dropna(subset=['weight'], inplace=True)\n",
        "\n",
        "#transformation des colonnes en float\n",
        "for element in regresseurs1 :\n",
        "    BF4[element] = BF4[element].astype(float)\n",
        "\n",
        "poids = BF4['weight'].astype('float')\n",
        "\n"
      ],
      "metadata": {
        "id": "qVUfCCuLBOr-"
      },
      "execution_count": 64,
      "outputs": []
    },
    {
      "cell_type": "code",
      "source": [
        "\n",
        "Y1 = BF4[regY]/100\n",
        "X1 = BF4[regresseurs1].fillna(0).astype(float) #sur la periode 2013-2019 : [:97043]\n",
        "X1 = sm.add_constant(X1)\n",
        "model1 = sm.Logit(Y1,X1, weights=poids)\n",
        "results1 = model1.fit()\n",
        "su1 = results1.summary()\n",
        "print(su1)\n"
      ],
      "metadata": {
        "colab": {
          "base_uri": "https://localhost:8080/"
        },
        "id": "-We9ZiIhaHuh",
        "outputId": "dffd5337-6f79-4bf7-dcb9-fb53ec8f8fa1"
      },
      "execution_count": 56,
      "outputs": [
        {
          "output_type": "stream",
          "name": "stderr",
          "text": [
            "/usr/local/lib/python3.9/dist-packages/statsmodels/base/model.py:127: ValueWarning: unknown kwargs ['weights']\n",
            "  warnings.warn(msg, ValueWarning)\n"
          ]
        },
        {
          "output_type": "stream",
          "name": "stdout",
          "text": [
            "Optimization terminated successfully.\n",
            "         Current function value: 0.562125\n",
            "         Iterations 5\n"
          ]
        },
        {
          "output_type": "stream",
          "name": "stderr",
          "text": [
            "/usr/local/lib/python3.9/dist-packages/statsmodels/base/model.py:127: ValueWarning: unknown kwargs ['weights']\n",
            "  warnings.warn(msg, ValueWarning)\n"
          ]
        },
        {
          "output_type": "stream",
          "name": "stdout",
          "text": [
            "                           Logit Regression Results                           \n",
            "==============================================================================\n",
            "Dep. Variable:          proba_st_high   No. Observations:                95970\n",
            "Model:                          Logit   Df Residuals:                    95952\n",
            "Method:                           MLE   Df Model:                           17\n",
            "Date:                Tue, 25 Apr 2023   Pseudo R-squ.:                 0.01150\n",
            "Time:                        12:40:49   Log-Likelihood:                -53947.\n",
            "converged:                       True   LL-Null:                       -54575.\n",
            "Covariance Type:            nonrobust   LLR p-value:                1.826e-256\n",
            "======================================================================================================\n",
            "                                         coef    std err          z      P>|z|      [0.025      0.975]\n",
            "------------------------------------------------------------------------------------------------------\n",
            "const                                 -1.3445      0.046    -29.385      0.000      -1.434      -1.255\n",
            "taux inflation                         0.0115      0.009      1.253      0.210      -0.007       0.030\n",
            "femme                                  0.3734      0.029     12.964      0.000       0.317       0.430\n",
            "age > 60 ans                           0.1204      0.017      6.995      0.000       0.087       0.154\n",
            "age < 40 ans                          -0.1345      0.018     -7.293      0.000      -0.171      -0.098\n",
            "Niveau licence                        -0.1930      0.016    -12.403      0.000      -0.223      -0.162\n",
            "revenus > $100k                       -0.1752      0.019     -9.317      0.000      -0.212      -0.138\n",
            "revenus < $50k                         0.1249      0.017      7.292      0.000       0.091       0.159\n",
            "High_num                              -0.2277      0.017    -13.524      0.000      -0.261      -0.195\n",
            "proba hausse chomage                   0.0115      0.000     35.423      0.000       0.011       0.012\n",
            "proba hausse taux intêret             -0.0031      0.000     -8.316      0.000      -0.004      -0.002\n",
            "proba hausse taux intêret square    8.164e-05    1.1e-05      7.393      0.000       6e-05       0.000\n",
            "proba diminution indices boursiers     0.0058      0.000     16.288      0.000       0.005       0.006\n",
            "chômage                               -0.0215      0.039     -0.555      0.579      -0.097       0.054\n",
            "anticipation baisse revenus            0.1225      0.021      5.726      0.000       0.081       0.164\n",
            "proba chgt résidence                   0.0002      0.000      0.531      0.595      -0.000       0.001\n",
            "proba chgt résidence square        -9.888e-07   9.73e-06     -0.102      0.919   -2.01e-05    1.81e-05\n",
            "proba non-remboursement prêt           0.0041      0.000     11.918      0.000       0.003       0.005\n",
            "======================================================================================================\n"
          ]
        }
      ]
    },
    {
      "cell_type": "code",
      "source": [
        "BF4.drop(BF4[BF4[regY] > 100].index, inplace = True)"
      ],
      "metadata": {
        "id": "jsM_x-TNXvI4"
      },
      "execution_count": 48,
      "outputs": []
    },
    {
      "cell_type": "markdown",
      "source": [
        "B- Inflation négative - court terme :"
      ],
      "metadata": {
        "id": "Bysqa5H8RnfY"
      }
    },
    {
      "cell_type": "code",
      "source": [
        "regY = 'proba_st_defl'\n",
        "BF4.drop(BF4[BF4[regY] > 100].index, inplace = True)\n"
      ],
      "metadata": {
        "id": "jwtOYlDTavww"
      },
      "execution_count": 57,
      "outputs": []
    },
    {
      "cell_type": "code",
      "source": [
        "Y1 = BF4[regY]/100\n",
        "X1 = BF4[regresseurs1].fillna(0).astype(float) #sur la periode 2013-2019 : [:97043]\n",
        "X1 = sm.add_constant(X1)\n",
        "model1 = sm.Logit(Y1,X1, weights=poids)\n",
        "results1 = model1.fit()\n",
        "su1 = results1.summary()\n",
        "print(su1)"
      ],
      "metadata": {
        "colab": {
          "base_uri": "https://localhost:8080/"
        },
        "id": "Bnedcbujbxyu",
        "outputId": "b9097c1e-8fe8-46d1-c679-c97f41984828"
      },
      "execution_count": 58,
      "outputs": [
        {
          "output_type": "stream",
          "name": "stderr",
          "text": [
            "/usr/local/lib/python3.9/dist-packages/statsmodels/base/model.py:127: ValueWarning: unknown kwargs ['weights']\n",
            "  warnings.warn(msg, ValueWarning)\n"
          ]
        },
        {
          "output_type": "stream",
          "name": "stdout",
          "text": [
            "Optimization terminated successfully.\n",
            "         Current function value: 0.283293\n",
            "         Iterations 6\n"
          ]
        },
        {
          "output_type": "stream",
          "name": "stderr",
          "text": [
            "/usr/local/lib/python3.9/dist-packages/statsmodels/base/model.py:127: ValueWarning: unknown kwargs ['weights']\n",
            "  warnings.warn(msg, ValueWarning)\n"
          ]
        },
        {
          "output_type": "stream",
          "name": "stdout",
          "text": [
            "                           Logit Regression Results                           \n",
            "==============================================================================\n",
            "Dep. Variable:          proba_st_defl   No. Observations:                95811\n",
            "Model:                          Logit   Df Residuals:                    95793\n",
            "Method:                           MLE   Df Model:                           17\n",
            "Date:                Tue, 25 Apr 2023   Pseudo R-squ.:                 -0.2058\n",
            "Time:                        12:41:44   Log-Likelihood:                -27143.\n",
            "converged:                       True   LL-Null:                       -22510.\n",
            "Covariance Type:            nonrobust   LLR p-value:                     1.000\n",
            "======================================================================================================\n",
            "                                         coef    std err          z      P>|z|      [0.025      0.975]\n",
            "------------------------------------------------------------------------------------------------------\n",
            "const                                 -0.9682      0.064    -15.153      0.000      -1.093      -0.843\n",
            "taux inflation                        -0.0460      0.012     -3.691      0.000      -0.070      -0.022\n",
            "femme                                  0.3563      0.037      9.711      0.000       0.284       0.428\n",
            "age > 60 ans                          -0.2103      0.025     -8.518      0.000      -0.259      -0.162\n",
            "age < 40 ans                           0.1894      0.024      7.890      0.000       0.142       0.236\n",
            "Niveau licence                        -0.2421      0.022    -11.254      0.000      -0.284      -0.200\n",
            "revenus > $100k                       -0.0749      0.027     -2.826      0.005      -0.127      -0.023\n",
            "revenus < $50k                         0.1673      0.023      7.142      0.000       0.121       0.213\n",
            "High_num                              -0.4556      0.022    -20.613      0.000      -0.499      -0.412\n",
            "proba hausse chomage                  -0.0055      0.000    -11.692      0.000      -0.006      -0.005\n",
            "proba hausse taux intêret             -0.0035      0.001     -6.007      0.000      -0.005      -0.002\n",
            "proba hausse taux intêret square      -0.0002   1.65e-05    -14.217      0.000      -0.000      -0.000\n",
            "proba diminution indices boursiers     0.0021      0.000      4.211      0.000       0.001       0.003\n",
            "chômage                                0.1284      0.051      2.543      0.011       0.029       0.227\n",
            "anticipation baisse revenus            0.1195      0.030      4.015      0.000       0.061       0.178\n",
            "proba chgt résidence                3.241e-05      0.000      0.083      0.934      -0.001       0.001\n",
            "proba chgt résidence square        -5.721e-05   1.32e-05     -4.344      0.000    -8.3e-05   -3.14e-05\n",
            "proba non-remboursement prêt           0.0012      0.000      2.660      0.008       0.000       0.002\n",
            "======================================================================================================\n"
          ]
        }
      ]
    },
    {
      "cell_type": "markdown",
      "source": [
        "C - Inflation élevée - court terme :"
      ],
      "metadata": {
        "id": "Qh0Vh66Kb7I8"
      }
    },
    {
      "cell_type": "code",
      "source": [
        "regY = 'proba_lt_high'\n",
        "BF4.drop(BF4[BF4[regY] > 100].index, inplace = True)"
      ],
      "metadata": {
        "id": "yXa5iYyhb_-R"
      },
      "execution_count": 59,
      "outputs": []
    },
    {
      "cell_type": "code",
      "source": [
        "Y1 = BF4[regY]/100\n",
        "X1 = BF4[regresseurs1].fillna(0).astype(float) #sur la periode 2013-2019 : [:97043]\n",
        "X1 = sm.add_constant(X1)\n",
        "model1 = sm.Logit(Y1,X1, weights=poids)\n",
        "results1 = model1.fit()\n",
        "su1 = results1.summary()\n",
        "print(su1)"
      ],
      "metadata": {
        "colab": {
          "base_uri": "https://localhost:8080/"
        },
        "id": "0mrf3OyocHK5",
        "outputId": "64b41708-5937-4bab-bae7-4d2eb3e94036"
      },
      "execution_count": 60,
      "outputs": [
        {
          "output_type": "stream",
          "name": "stderr",
          "text": [
            "/usr/local/lib/python3.9/dist-packages/statsmodels/base/model.py:127: ValueWarning: unknown kwargs ['weights']\n",
            "  warnings.warn(msg, ValueWarning)\n"
          ]
        },
        {
          "output_type": "stream",
          "name": "stdout",
          "text": [
            "Optimization terminated successfully.\n",
            "         Current function value: 0.588327\n",
            "         Iterations 5\n"
          ]
        },
        {
          "output_type": "stream",
          "name": "stderr",
          "text": [
            "/usr/local/lib/python3.9/dist-packages/statsmodels/base/model.py:127: ValueWarning: unknown kwargs ['weights']\n",
            "  warnings.warn(msg, ValueWarning)\n"
          ]
        },
        {
          "output_type": "stream",
          "name": "stdout",
          "text": [
            "                           Logit Regression Results                           \n",
            "==============================================================================\n",
            "Dep. Variable:          proba_lt_high   No. Observations:                95775\n",
            "Model:                          Logit   Df Residuals:                    95757\n",
            "Method:                           MLE   Df Model:                           17\n",
            "Date:                Tue, 25 Apr 2023   Pseudo R-squ.:                 0.01156\n",
            "Time:                        12:43:18   Log-Likelihood:                -56347.\n",
            "converged:                       True   LL-Null:                       -57006.\n",
            "Covariance Type:            nonrobust   LLR p-value:                6.532e-270\n",
            "======================================================================================================\n",
            "                                         coef    std err          z      P>|z|      [0.025      0.975]\n",
            "------------------------------------------------------------------------------------------------------\n",
            "const                                 -1.2695      0.045    -28.323      0.000      -1.357      -1.182\n",
            "taux inflation                         0.0018      0.009      0.204      0.838      -0.016       0.020\n",
            "femme                                  0.3309      0.029     11.572      0.000       0.275       0.387\n",
            "age > 60 ans                           0.1635      0.017      9.682      0.000       0.130       0.197\n",
            "age < 40 ans                          -0.1460      0.018     -8.065      0.000      -0.181      -0.111\n",
            "Niveau licence                        -0.1526      0.015     -9.971      0.000      -0.183      -0.123\n",
            "revenus > $100k                       -0.1389      0.018     -7.592      0.000      -0.175      -0.103\n",
            "revenus < $50k                         0.1214      0.017      7.180      0.000       0.088       0.155\n",
            "High_num                              -0.1799      0.017    -10.788      0.000      -0.213      -0.147\n",
            "proba hausse chomage                   0.0102      0.000     31.916      0.000       0.010       0.011\n",
            "proba hausse taux intêret             -0.0021      0.000     -5.801      0.000      -0.003      -0.001\n",
            "proba hausse taux intêret square       0.0001   1.08e-05      9.517      0.000    8.13e-05       0.000\n",
            "proba diminution indices boursiers     0.0048      0.000     13.697      0.000       0.004       0.005\n",
            "chômage                               -0.0309      0.038     -0.810      0.418      -0.106       0.044\n",
            "anticipation baisse revenus            0.0978      0.021      4.625      0.000       0.056       0.139\n",
            "proba chgt résidence                   0.0003      0.000      1.112      0.266      -0.000       0.001\n",
            "proba chgt résidence square          1.04e-05   9.53e-06      1.091      0.275   -8.28e-06    2.91e-05\n",
            "proba non-remboursement prêt           0.0039      0.000     11.381      0.000       0.003       0.005\n",
            "======================================================================================================\n"
          ]
        }
      ]
    },
    {
      "cell_type": "markdown",
      "source": [
        "D - Déflation - court terme :"
      ],
      "metadata": {
        "id": "bCfyUhYRcMjX"
      }
    },
    {
      "cell_type": "code",
      "source": [
        "regY = 'proba_lt_defl'\n",
        "BF4.drop(BF4[BF4[regY] > 100].index, inplace = True)"
      ],
      "metadata": {
        "id": "cEy9jijQckr8"
      },
      "execution_count": 61,
      "outputs": []
    },
    {
      "cell_type": "code",
      "source": [
        "Y1 = BF4[regY]/100\n",
        "X1 = BF4[regresseurs1].fillna(0).astype(float) #sur la periode 2013-2019 : [:97043]\n",
        "X1 = sm.add_constant(X1)\n",
        "model1 = sm.Logit(Y1,X1, weights=poids)\n",
        "results1 = model1.fit()\n",
        "su1 = results1.summary()\n",
        "print(su1)"
      ],
      "metadata": {
        "colab": {
          "base_uri": "https://localhost:8080/"
        },
        "id": "PAmb61rpcqXV",
        "outputId": "3f1f9891-ed48-4f8a-fc9b-2e8806f19cad"
      },
      "execution_count": 62,
      "outputs": [
        {
          "output_type": "stream",
          "name": "stderr",
          "text": [
            "/usr/local/lib/python3.9/dist-packages/statsmodels/base/model.py:127: ValueWarning: unknown kwargs ['weights']\n",
            "  warnings.warn(msg, ValueWarning)\n"
          ]
        },
        {
          "output_type": "stream",
          "name": "stdout",
          "text": [
            "Optimization terminated successfully.\n",
            "         Current function value: 0.321403\n",
            "         Iterations 6\n"
          ]
        },
        {
          "output_type": "stream",
          "name": "stderr",
          "text": [
            "/usr/local/lib/python3.9/dist-packages/statsmodels/base/model.py:127: ValueWarning: unknown kwargs ['weights']\n",
            "  warnings.warn(msg, ValueWarning)\n"
          ]
        },
        {
          "output_type": "stream",
          "name": "stdout",
          "text": [
            "                           Logit Regression Results                           \n",
            "==============================================================================\n",
            "Dep. Variable:          proba_lt_defl   No. Observations:                95735\n",
            "Model:                          Logit   Df Residuals:                    95717\n",
            "Method:                           MLE   Df Model:                           17\n",
            "Date:                Tue, 25 Apr 2023   Pseudo R-squ.:                 -0.1374\n",
            "Time:                        12:45:44   Log-Likelihood:                -30770.\n",
            "converged:                       True   LL-Null:                       -27053.\n",
            "Covariance Type:            nonrobust   LLR p-value:                     1.000\n",
            "======================================================================================================\n",
            "                                         coef    std err          z      P>|z|      [0.025      0.975]\n",
            "------------------------------------------------------------------------------------------------------\n",
            "const                                 -1.0770      0.060    -17.803      0.000      -1.196      -0.958\n",
            "taux inflation                        -0.0097      0.012     -0.808      0.419      -0.033       0.014\n",
            "femme                                  0.3668      0.035     10.447      0.000       0.298       0.436\n",
            "age > 60 ans                          -0.2233      0.024     -9.479      0.000      -0.269      -0.177\n",
            "age < 40 ans                           0.1751      0.023      7.642      0.000       0.130       0.220\n",
            "Niveau licence                        -0.2179      0.021    -10.616      0.000      -0.258      -0.178\n",
            "revenus > $100k                       -0.1028      0.025     -4.088      0.000      -0.152      -0.054\n",
            "revenus < $50k                         0.1363      0.022      6.088      0.000       0.092       0.180\n",
            "High_num                              -0.4277      0.021    -20.142      0.000      -0.469      -0.386\n",
            "proba hausse chomage                  -0.0042      0.000     -9.394      0.000      -0.005      -0.003\n",
            "proba hausse taux intêret             -0.0023      0.001     -4.234      0.000      -0.003      -0.001\n",
            "proba hausse taux intêret square      -0.0002   1.54e-05    -12.491      0.000      -0.000      -0.000\n",
            "proba diminution indices boursiers     0.0026      0.000      5.469      0.000       0.002       0.004\n",
            "chômage                                0.1361      0.048      2.820      0.005       0.042       0.231\n",
            "anticipation baisse revenus            0.1268      0.028      4.473      0.000       0.071       0.182\n",
            "proba chgt résidence                   0.0007      0.000      1.848      0.065   -4.12e-05       0.001\n",
            "proba chgt résidence square        -5.094e-05   1.25e-05     -4.076      0.000   -7.54e-05   -2.64e-05\n",
            "proba non-remboursement prêt           0.0012      0.000      2.725      0.006       0.000       0.002\n",
            "======================================================================================================\n"
          ]
        }
      ]
    },
    {
      "cell_type": "markdown",
      "source": [
        "# Deuxième partie : sur les données post 2020 :"
      ],
      "metadata": {
        "id": "hfaEEviRjQZc"
      }
    },
    {
      "cell_type": "code",
      "source": [
        "#retrait des valeurs manquantes\n",
        "BF5 =BF.where(BF['date'].astype(str)>'2020-01-01').dropna(subset=regresseurs2+[regY])\n",
        "\n",
        "\n",
        "#du coup on re binarise Q25v2\n",
        "BF5['anticipation baisse revenus'] = (BF5['anticipation baisse revenus']==3)*1\n",
        "BF5['anticipation baisse revenus']=BF5.fillna(0)['anticipation baisse revenus']\n",
        "\n",
        "\n",
        "BF5.dropna(subset=['weight'], inplace=True)\n",
        "\n",
        "#transformation des colonnes en float\n",
        "for element in regresseurs2 :\n",
        "    BF5[element] = BF5[element].astype(float)\n"
      ],
      "metadata": {
        "id": "MD6-hd2BBWHa",
        "colab": {
          "base_uri": "https://localhost:8080/"
        },
        "outputId": "6831df80-15e1-4a88-e559-f7c7360f12ff"
      },
      "execution_count": 65,
      "outputs": [
        {
          "output_type": "stream",
          "name": "stdout",
          "text": [
            "                            WLS Regression Results                            \n",
            "==============================================================================\n",
            "Dep. Variable:          proba_lt_defl   R-squared:                       0.049\n",
            "Model:                            WLS   Adj. R-squared:                  0.048\n",
            "Method:                 Least Squares   F-statistic:                     78.97\n",
            "Date:                Tue, 25 Apr 2023   Prob (F-statistic):               0.00\n",
            "Time:                        13:16:27   Log-Likelihood:            -1.5690e+05\n",
            "No. Observations:               32333   AIC:                         3.138e+05\n",
            "Df Residuals:                   32311   BIC:                         3.140e+05\n",
            "Df Model:                          21                                         \n",
            "Covariance Type:            nonrobust                                         \n",
            "======================================================================================================\n",
            "                                         coef    std err          t      P>|t|      [0.025      0.975]\n",
            "------------------------------------------------------------------------------------------------------\n",
            "const                                 18.2765      0.872     20.967      0.000      16.568      19.985\n",
            "taux inflation                         0.4262      0.187      2.277      0.023       0.059       0.793\n",
            "t2020                                  6.3511      0.442     14.356      0.000       5.484       7.218\n",
            "t2021                                  2.4407      0.351      6.953      0.000       1.753       3.129\n",
            "t2022                                  9.4847      0.718     13.206      0.000       8.077      10.892\n",
            "femme                                  5.5311      1.228      4.503      0.000       3.124       7.938\n",
            "age > 60 ans                          -4.2800      0.643     -6.652      0.000      -5.541      -3.019\n",
            "age < 40 ans                           4.3533      0.688      6.326      0.000       3.005       5.702\n",
            "Niveau licence                        -1.5862      0.617     -2.572      0.010      -2.795      -0.378\n",
            "revenus > $100k                       -0.1378      0.686     -0.201      0.841      -1.483       1.207\n",
            "revenus < $50k                         4.6121      0.673      6.851      0.000       3.293       5.932\n",
            "High_num                              -6.0736      0.619     -9.814      0.000      -7.287      -4.861\n",
            "femme * inflation                      0.2253      0.254      0.887      0.375      -0.273       0.723\n",
            "age > 60 ans * inflation               0.6109      0.128      4.762      0.000       0.359       0.862\n",
            "age < 40 ans * inflation              -0.3175      0.137     -2.315      0.021      -0.586      -0.049\n",
            "Niveau licence * inflation            -0.5053      0.122     -4.142      0.000      -0.744      -0.266\n",
            "revenus > $100k * inflation           -0.0064      0.137     -0.046      0.963      -0.275       0.263\n",
            "revenus < $50k * inflation            -0.4999      0.134     -3.737      0.000      -0.762      -0.238\n",
            "High_num * inflation                   0.1070      0.122      0.875      0.382      -0.133       0.347\n",
            "proba hausse chomage                  -0.0431      0.007     -6.524      0.000      -0.056      -0.030\n",
            "proba hausse taux intêret             -0.0310      0.009     -3.544      0.000      -0.048      -0.014\n",
            "proba hausse taux intêret square      -0.0032      0.000    -13.056      0.000      -0.004      -0.003\n",
            "proba diminution indices boursiers     0.0504      0.007      6.887      0.000       0.036       0.065\n",
            "==============================================================================\n",
            "Omnibus:                    12223.023   Durbin-Watson:                   1.986\n",
            "Prob(Omnibus):                  0.000   Jarque-Bera (JB):            52073.717\n",
            "Skew:                           1.843   Prob(JB):                         0.00\n",
            "Kurtosis:                       8.006   Cond. No.                     8.86e+18\n",
            "==============================================================================\n",
            "\n",
            "Notes:\n",
            "[1] Standard Errors assume that the covariance matrix of the errors is correctly specified.\n",
            "[2] The smallest eigenvalue is 7.62e-28. This might indicate that there are\n",
            "strong multicollinearity problems or that the design matrix is singular.\n"
          ]
        }
      ]
    },
    {
      "cell_type": "markdown",
      "source": [
        "A - Court terme - inflation élevée"
      ],
      "metadata": {
        "id": "NewjkyRwj9Zq"
      }
    },
    {
      "cell_type": "code",
      "source": [
        "regY = 'proba_st_high'\n",
        "BF5.drop(BF5[BF5[regY] > 100].index, inplace = True)"
      ],
      "metadata": {
        "id": "ftbeR2x1jVBo"
      },
      "execution_count": 68,
      "outputs": []
    },
    {
      "cell_type": "code",
      "source": [
        "Y1 = BF5[regY]/100\n",
        "X1 = BF5[regresseurs1].fillna(0).astype(float) #sur la periode 2020-2022 \n",
        "X1 = sm.add_constant(X1)\n",
        "model1 = sm.Logit(Y1,X1, weights=poids)\n",
        "results1 = model1.fit()\n",
        "su1 = results1.summary()\n",
        "print(su1)"
      ],
      "metadata": {
        "colab": {
          "base_uri": "https://localhost:8080/"
        },
        "id": "pQbrn1fBkKkS",
        "outputId": "029f5de3-ddc6-412e-b579-5e7aec704560"
      },
      "execution_count": 69,
      "outputs": [
        {
          "output_type": "stream",
          "name": "stderr",
          "text": [
            "/usr/local/lib/python3.9/dist-packages/statsmodels/base/model.py:127: ValueWarning: unknown kwargs ['weights']\n",
            "  warnings.warn(msg, ValueWarning)\n",
            "/usr/local/lib/python3.9/dist-packages/statsmodels/base/model.py:127: ValueWarning: unknown kwargs ['weights']\n",
            "  warnings.warn(msg, ValueWarning)\n"
          ]
        },
        {
          "output_type": "stream",
          "name": "stdout",
          "text": [
            "Optimization terminated successfully.\n",
            "         Current function value: 0.609797\n",
            "         Iterations 5\n",
            "                           Logit Regression Results                           \n",
            "==============================================================================\n",
            "Dep. Variable:          proba_st_high   No. Observations:                32298\n",
            "Model:                          Logit   Df Residuals:                    32280\n",
            "Method:                           MLE   Df Model:                           17\n",
            "Date:                Tue, 25 Apr 2023   Pseudo R-squ.:                  0.1128\n",
            "Time:                        13:18:58   Log-Likelihood:                -19695.\n",
            "converged:                       True   LL-Null:                       -22199.\n",
            "Covariance Type:            nonrobust   LLR p-value:                     0.000\n",
            "======================================================================================================\n",
            "                                         coef    std err          z      P>|z|      [0.025      0.975]\n",
            "------------------------------------------------------------------------------------------------------\n",
            "const                                 -1.8044      0.074    -24.252      0.000      -1.950      -1.659\n",
            "taux inflation                         0.1884      0.004     44.441      0.000       0.180       0.197\n",
            "femme                                  0.2490      0.055      4.532      0.000       0.141       0.357\n",
            "age > 60 ans                           0.1899      0.029      6.465      0.000       0.132       0.248\n",
            "age < 40 ans                          -0.2185      0.030     -7.379      0.000      -0.277      -0.160\n",
            "Niveau licence                        -0.1721      0.026     -6.498      0.000      -0.224      -0.120\n",
            "revenus > $100k                       -0.0665      0.029     -2.307      0.021      -0.123      -0.010\n",
            "revenus < $50k                         0.0209      0.030      0.687      0.492      -0.039       0.080\n",
            "High_num                              -0.1230      0.029     -4.274      0.000      -0.179      -0.067\n",
            "proba hausse chomage                   0.0106      0.001     20.713      0.000       0.010       0.012\n",
            "proba hausse taux intêret              0.0038      0.001      6.019      0.000       0.003       0.005\n",
            "proba hausse taux intêret square       0.0002   1.84e-05     11.979      0.000       0.000       0.000\n",
            "proba diminution indices boursiers     0.0059      0.001     10.653      0.000       0.005       0.007\n",
            "chômage                                0.0275      0.066      0.419      0.675      -0.101       0.156\n",
            "anticipation baisse revenus            0.0417      0.035      1.196      0.232      -0.027       0.110\n",
            "proba chgt résidence                9.521e-05      0.001      0.181      0.856      -0.001       0.001\n",
            "proba chgt résidence square        -8.047e-06   1.75e-05     -0.459      0.646   -4.24e-05    2.63e-05\n",
            "proba non-remboursement prêt           0.0032      0.001      4.305      0.000       0.002       0.005\n",
            "======================================================================================================\n"
          ]
        }
      ]
    },
    {
      "cell_type": "markdown",
      "source": [
        "B - Court terme - déflation :"
      ],
      "metadata": {
        "id": "shEzdSBdkYe7"
      }
    },
    {
      "cell_type": "code",
      "source": [
        "regY = 'proba_st_defl'\n",
        "BF5.drop(BF5[BF5[regY] > 100].index, inplace = True)"
      ],
      "metadata": {
        "id": "3tQoalg5kbVG"
      },
      "execution_count": 70,
      "outputs": []
    },
    {
      "cell_type": "code",
      "source": [
        "Y1 = BF5[regY]/100\n",
        "X1 = BF5[regresseurs1].fillna(0).astype(float) #sur la periode 2020-2022 \n",
        "X1 = sm.add_constant(X1)\n",
        "model1 = sm.Logit(Y1,X1, weights=poids)\n",
        "results1 = model1.fit()\n",
        "su1 = results1.summary()\n",
        "print(su1)"
      ],
      "metadata": {
        "colab": {
          "base_uri": "https://localhost:8080/"
        },
        "id": "sCgb5RhokhCt",
        "outputId": "ab097a4f-0efb-4e73-b40f-5830ebfec257"
      },
      "execution_count": 71,
      "outputs": [
        {
          "output_type": "stream",
          "name": "stderr",
          "text": [
            "/usr/local/lib/python3.9/dist-packages/statsmodels/base/model.py:127: ValueWarning: unknown kwargs ['weights']\n",
            "  warnings.warn(msg, ValueWarning)\n",
            "/usr/local/lib/python3.9/dist-packages/statsmodels/base/model.py:127: ValueWarning: unknown kwargs ['weights']\n",
            "  warnings.warn(msg, ValueWarning)\n"
          ]
        },
        {
          "output_type": "stream",
          "name": "stdout",
          "text": [
            "Optimization terminated successfully.\n",
            "         Current function value: 0.288386\n",
            "         Iterations 7\n",
            "                           Logit Regression Results                           \n",
            "==============================================================================\n",
            "Dep. Variable:          proba_st_defl   No. Observations:                32268\n",
            "Model:                          Logit   Df Residuals:                    32250\n",
            "Method:                           MLE   Df Model:                           17\n",
            "Date:                Tue, 25 Apr 2023   Pseudo R-squ.:                 -0.1738\n",
            "Time:                        13:19:56   Log-Likelihood:                -9305.6\n",
            "converged:                       True   LL-Null:                       -7927.7\n",
            "Covariance Type:            nonrobust   LLR p-value:                     1.000\n",
            "======================================================================================================\n",
            "                                         coef    std err          z      P>|z|      [0.025      0.975]\n",
            "------------------------------------------------------------------------------------------------------\n",
            "const                                 -0.9744      0.106     -9.160      0.000      -1.183      -0.766\n",
            "taux inflation                        -0.1060      0.006    -17.104      0.000      -0.118      -0.094\n",
            "femme                                  0.3383      0.069      4.880      0.000       0.202       0.474\n",
            "age > 60 ans                          -0.1298      0.043     -3.024      0.002      -0.214      -0.046\n",
            "age < 40 ans                           0.1816      0.041      4.422      0.000       0.101       0.262\n",
            "Niveau licence                        -0.0839      0.038     -2.231      0.026      -0.158      -0.010\n",
            "revenus > $100k                       -0.0099      0.042     -0.234      0.815      -0.092       0.073\n",
            "revenus < $50k                         0.1986      0.042      4.719      0.000       0.116       0.281\n",
            "High_num                              -0.3399      0.039     -8.761      0.000      -0.416      -0.264\n",
            "proba hausse chomage                  -0.0023      0.001     -3.141      0.002      -0.004      -0.001\n",
            "proba hausse taux intêret             -0.0052      0.001     -4.866      0.000      -0.007      -0.003\n",
            "proba hausse taux intêret square      -0.0003   2.93e-05     -8.686      0.000      -0.000      -0.000\n",
            "proba diminution indices boursiers     0.0026      0.001      3.263      0.001       0.001       0.004\n",
            "chômage                                0.0973      0.085      1.140      0.254      -0.070       0.265\n",
            "anticipation baisse revenus            0.2033      0.047      4.361      0.000       0.112       0.295\n",
            "proba chgt résidence                  -0.0004      0.001     -0.479      0.632      -0.002       0.001\n",
            "proba chgt résidence square        -1.677e-05   2.44e-05     -0.687      0.492   -6.46e-05    3.11e-05\n",
            "proba non-remboursement prêt           0.0023      0.001      2.468      0.014       0.000       0.004\n",
            "======================================================================================================\n"
          ]
        }
      ]
    },
    {
      "cell_type": "markdown",
      "source": [
        "C - Long terme - Inflation haute :"
      ],
      "metadata": {
        "id": "ngu5tje1ks7u"
      }
    },
    {
      "cell_type": "code",
      "source": [
        "regY = 'proba_lt_high'\n",
        "BF5.drop(BF5[BF5[regY] > 100].index, inplace = True)"
      ],
      "metadata": {
        "id": "tth7koQjk2zl"
      },
      "execution_count": 72,
      "outputs": []
    },
    {
      "cell_type": "code",
      "source": [
        "Y1 = BF5[regY]/100\n",
        "X1 = BF5[regresseurs1].fillna(0).astype(float) #sur la periode 2020-2022 \n",
        "X1 = sm.add_constant(X1)\n",
        "model1 = sm.Logit(Y1,X1, weights=poids)\n",
        "results1 = model1.fit()\n",
        "su1 = results1.summary()\n",
        "print(su1)"
      ],
      "metadata": {
        "colab": {
          "base_uri": "https://localhost:8080/"
        },
        "id": "8twKJVSVk-Mu",
        "outputId": "b460acbe-477a-4986-f82f-7bb3053a08bb"
      },
      "execution_count": 73,
      "outputs": [
        {
          "output_type": "stream",
          "name": "stderr",
          "text": [
            "/usr/local/lib/python3.9/dist-packages/statsmodels/base/model.py:127: ValueWarning: unknown kwargs ['weights']\n",
            "  warnings.warn(msg, ValueWarning)\n",
            "/usr/local/lib/python3.9/dist-packages/statsmodels/base/model.py:127: ValueWarning: unknown kwargs ['weights']\n",
            "  warnings.warn(msg, ValueWarning)\n"
          ]
        },
        {
          "output_type": "stream",
          "name": "stdout",
          "text": [
            "Optimization terminated successfully.\n",
            "         Current function value: 0.617909\n",
            "         Iterations 5\n",
            "                           Logit Regression Results                           \n",
            "==============================================================================\n",
            "Dep. Variable:          proba_lt_high   No. Observations:                32253\n",
            "Model:                          Logit   Df Residuals:                    32235\n",
            "Method:                           MLE   Df Model:                           17\n",
            "Date:                Tue, 25 Apr 2023   Pseudo R-squ.:                 0.04204\n",
            "Time:                        13:21:54   Log-Likelihood:                -19929.\n",
            "converged:                       True   LL-Null:                       -20804.\n",
            "Covariance Type:            nonrobust   LLR p-value:                     0.000\n",
            "======================================================================================================\n",
            "                                         coef    std err          z      P>|z|      [0.025      0.975]\n",
            "------------------------------------------------------------------------------------------------------\n",
            "const                                 -1.5266      0.073    -20.923      0.000      -1.670      -1.384\n",
            "taux inflation                         0.0919      0.004     22.200      0.000       0.084       0.100\n",
            "femme                                  0.1902      0.054      3.522      0.000       0.084       0.296\n",
            "age > 60 ans                           0.2144      0.029      7.380      0.000       0.157       0.271\n",
            "age < 40 ans                          -0.1478      0.030     -4.985      0.000      -0.206      -0.090\n",
            "Niveau licence                        -0.1506      0.026     -5.737      0.000      -0.202      -0.099\n",
            "revenus > $100k                       -0.0422      0.029     -1.466      0.143      -0.099       0.014\n",
            "revenus < $50k                         0.0690      0.030      2.295      0.022       0.010       0.128\n",
            "High_num                              -0.1494      0.028     -5.262      0.000      -0.205      -0.094\n",
            "proba hausse chomage                   0.0097      0.001     19.278      0.000       0.009       0.011\n",
            "proba hausse taux intêret              0.0008      0.001      1.247      0.212      -0.000       0.002\n",
            "proba hausse taux intêret square       0.0001   1.79e-05      8.009      0.000       0.000       0.000\n",
            "proba diminution indices boursiers     0.0060      0.001     10.930      0.000       0.005       0.007\n",
            "chômage                                0.0340      0.065      0.524      0.600      -0.093       0.161\n",
            "anticipation baisse revenus            0.0111      0.034      0.324      0.746      -0.056       0.079\n",
            "proba chgt résidence                  -0.0003      0.001     -0.622      0.534      -0.001       0.001\n",
            "proba chgt résidence square        -2.094e-05   1.75e-05     -1.199      0.231   -5.52e-05    1.33e-05\n",
            "proba non-remboursement prêt           0.0020      0.001      2.796      0.005       0.001       0.003\n",
            "======================================================================================================\n"
          ]
        }
      ]
    },
    {
      "cell_type": "markdown",
      "source": [
        "D - Moyen terme - Déflation :"
      ],
      "metadata": {
        "id": "Jata9_6ClATi"
      }
    },
    {
      "cell_type": "code",
      "source": [
        "regY = 'proba_lt_high'\n",
        "BF5.drop(BF5[BF5[regY] > 100].index, inplace = True)"
      ],
      "metadata": {
        "id": "9SbGjKQilIsj"
      },
      "execution_count": 74,
      "outputs": []
    },
    {
      "cell_type": "code",
      "source": [
        "Y1 = BF5[regY]/100\n",
        "X1 = BF5[regresseurs1].fillna(0).astype(float) #sur la periode 2020-2022 \n",
        "X1 = sm.add_constant(X1)\n",
        "model1 = sm.Logit(Y1,X1, weights=poids)\n",
        "results1 = model1.fit()\n",
        "su1 = results1.summary()\n",
        "print(su1)"
      ],
      "metadata": {
        "colab": {
          "base_uri": "https://localhost:8080/"
        },
        "id": "65souEptlOEX",
        "outputId": "36df6951-a961-4be9-808c-773f135723fb"
      },
      "execution_count": 75,
      "outputs": [
        {
          "output_type": "stream",
          "name": "stderr",
          "text": [
            "/usr/local/lib/python3.9/dist-packages/statsmodels/base/model.py:127: ValueWarning: unknown kwargs ['weights']\n",
            "  warnings.warn(msg, ValueWarning)\n",
            "/usr/local/lib/python3.9/dist-packages/statsmodels/base/model.py:127: ValueWarning: unknown kwargs ['weights']\n",
            "  warnings.warn(msg, ValueWarning)\n"
          ]
        },
        {
          "output_type": "stream",
          "name": "stdout",
          "text": [
            "Optimization terminated successfully.\n",
            "         Current function value: 0.617909\n",
            "         Iterations 5\n",
            "                           Logit Regression Results                           \n",
            "==============================================================================\n",
            "Dep. Variable:          proba_lt_high   No. Observations:                32253\n",
            "Model:                          Logit   Df Residuals:                    32235\n",
            "Method:                           MLE   Df Model:                           17\n",
            "Date:                Tue, 25 Apr 2023   Pseudo R-squ.:                 0.04204\n",
            "Time:                        13:23:02   Log-Likelihood:                -19929.\n",
            "converged:                       True   LL-Null:                       -20804.\n",
            "Covariance Type:            nonrobust   LLR p-value:                     0.000\n",
            "======================================================================================================\n",
            "                                         coef    std err          z      P>|z|      [0.025      0.975]\n",
            "------------------------------------------------------------------------------------------------------\n",
            "const                                 -1.5266      0.073    -20.923      0.000      -1.670      -1.384\n",
            "taux inflation                         0.0919      0.004     22.200      0.000       0.084       0.100\n",
            "femme                                  0.1902      0.054      3.522      0.000       0.084       0.296\n",
            "age > 60 ans                           0.2144      0.029      7.380      0.000       0.157       0.271\n",
            "age < 40 ans                          -0.1478      0.030     -4.985      0.000      -0.206      -0.090\n",
            "Niveau licence                        -0.1506      0.026     -5.737      0.000      -0.202      -0.099\n",
            "revenus > $100k                       -0.0422      0.029     -1.466      0.143      -0.099       0.014\n",
            "revenus < $50k                         0.0690      0.030      2.295      0.022       0.010       0.128\n",
            "High_num                              -0.1494      0.028     -5.262      0.000      -0.205      -0.094\n",
            "proba hausse chomage                   0.0097      0.001     19.278      0.000       0.009       0.011\n",
            "proba hausse taux intêret              0.0008      0.001      1.247      0.212      -0.000       0.002\n",
            "proba hausse taux intêret square       0.0001   1.79e-05      8.009      0.000       0.000       0.000\n",
            "proba diminution indices boursiers     0.0060      0.001     10.930      0.000       0.005       0.007\n",
            "chômage                                0.0340      0.065      0.524      0.600      -0.093       0.161\n",
            "anticipation baisse revenus            0.0111      0.034      0.324      0.746      -0.056       0.079\n",
            "proba chgt résidence                  -0.0003      0.001     -0.622      0.534      -0.001       0.001\n",
            "proba chgt résidence square        -2.094e-05   1.75e-05     -1.199      0.231   -5.52e-05    1.33e-05\n",
            "proba non-remboursement prêt           0.0020      0.001      2.796      0.005       0.001       0.003\n",
            "======================================================================================================\n"
          ]
        }
      ]
    }
  ]
}